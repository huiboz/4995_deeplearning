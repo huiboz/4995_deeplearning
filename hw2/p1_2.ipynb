{
 "cells": [
  {
   "cell_type": "markdown",
   "metadata": {},
   "source": [
    "# Python 3.6\n",
    "# Pytorch"
   ]
  },
  {
   "cell_type": "code",
   "execution_count": 1,
   "metadata": {
    "collapsed": true
   },
   "outputs": [],
   "source": [
    "import torch\n",
    "import numpy as np\n",
    "from torch.utils.data.sampler import SubsetRandomSampler\n",
    "from torch.autograd import Variable\n",
    "import pickle"
   ]
  },
  {
   "cell_type": "code",
   "execution_count": 2,
   "metadata": {
    "collapsed": true
   },
   "outputs": [],
   "source": [
    "class Loader:\n",
    "    \n",
    "    def unpickle(self,file):\n",
    "        with open(file, 'rb') as fo:\n",
    "            dict = pickle.load(fo, encoding='bytes')\n",
    "        return dict\n",
    "    \n",
    "    def load_train_data(self):\n",
    "        '''\n",
    "        loads training data: 50,000 examples with 3072 features\n",
    "        '''\n",
    "        X_train = None\n",
    "        Y_train = None\n",
    "        for i in range(1, 6):\n",
    "            pickleFile = self.unpickle('cifar-10-batches-py/data_batch_{}'.format(i))\n",
    "            dataX = pickleFile[b'data']\n",
    "            dataY = pickleFile[b'labels']\n",
    "            if type(X_train) is np.ndarray:\n",
    "                X_train = np.concatenate((X_train, dataX))\n",
    "                Y_train = np.concatenate((Y_train, dataY))\n",
    "            else:\n",
    "                X_train = dataX\n",
    "                Y_train = dataY\n",
    "\n",
    "        Y_train = Y_train.reshape(Y_train.shape[0], 1)\n",
    "\n",
    "        return X_train, Y_train\n",
    "\n",
    "    def load_test_data(self):\n",
    "        '''\n",
    "        loads testing data: 10,000 examples with 3072 features\n",
    "        '''\n",
    "        X_test = None\n",
    "        Y_test = None\n",
    "        pickleFile = self.unpickle('cifar-10-batches-py/test_batch')\n",
    "        dataX = pickleFile[b'data']\n",
    "        dataY = pickleFile[b'labels']\n",
    "        if type(X_test) is np.ndarray:\n",
    "            X_test = np.concatenate((X_test, dataX))\n",
    "            Y_test = np.concatenate((Y_test, dataY))\n",
    "        else:\n",
    "            X_test = np.array(dataX)\n",
    "            Y_test = np.array(dataY)\n",
    "\n",
    "        Y_test = Y_test.reshape(Y_test.shape[0], 1)\n",
    "\n",
    "        return X_test, Y_test"
   ]
  },
  {
   "cell_type": "code",
   "execution_count": 3,
   "metadata": {
    "collapsed": true
   },
   "outputs": [],
   "source": [
    "# split data\n",
    "X_trainval,Y_trainval = Loader().load_train_data()\n",
    "X_test, Y_test = Loader().load_test_data()\n",
    "\n",
    "X_trainval = X_trainval.astype(float)\n",
    "X_trainval_scale = X_trainval / 255\n",
    "\n",
    "X_test = X_test.astype(float)\n",
    "X_test_scale = X_test / 255\n",
    "\n",
    "X_trainval_reshape = X_trainval_scale.reshape((X_trainval.shape[0],3,32,32))\n",
    "X_test_reshape = X_test_scale.reshape((X_test.shape[0],3,32,32))\n",
    "\n",
    "\n",
    "num_train = 50000\n",
    "indices = list(range(num_train))\n",
    "split = 40000\n",
    "np.random.shuffle(indices)\n",
    "\n",
    "valid_idx, train_idx = indices[split:], indices[:split]\n",
    "\n",
    "X_train_reshape = X_trainval_reshape[train_idx]\n",
    "Y_train_reshape = Y_trainval[train_idx]\n",
    "\n",
    "X_val_reshape = X_trainval_reshape[valid_idx]\n",
    "Y_val_reshape = Y_trainval[valid_idx]\n",
    "\n"
   ]
  },
  {
   "cell_type": "code",
   "execution_count": 4,
   "metadata": {
    "collapsed": true
   },
   "outputs": [],
   "source": [
    "import torch.utils.data as data_utils\n",
    "\n",
    "train_try = data_utils.TensorDataset(torch.FloatTensor(X_train_reshape), torch.LongTensor(Y_train_reshape.reshape(40000)))\n",
    "train_try_loader = data_utils.DataLoader(train_try, batch_size=4, shuffle=True)"
   ]
  },
  {
   "cell_type": "code",
   "execution_count": 179,
   "metadata": {},
   "outputs": [],
   "source": [
    "import torch.nn as nn\n",
    "import torch.nn.functional as F\n",
    "\n",
    "\n",
    "class Net(nn.Module):\n",
    "    def __init__(self):\n",
    "        super(Net, self).__init__()\n",
    "        self.conv1 = nn.Conv2d(3, 192, 5,padding=2)\n",
    "        self.pool = nn.MaxPool2d(2, 2)\n",
    "        self.conv2 = nn.Conv2d(192, 160, 3,padding=2)\n",
    "        \n",
    "        self.conv3 = nn.Conv2d(160,96,3,padding=2)\n",
    "        \n",
    "        #self.conv4 = nn.Conv2d(72,168,3,padding=2)\n",
    "\n",
    "\n",
    "        self.fc1 = nn.Linear(96*5*5,120)\n",
    "        self.fc2 = nn.Linear(120,96)\n",
    "        self.fc3 = nn.Linear(96,10)\n",
    "\n",
    "        \n",
    "        \n",
    "        self.bn1 = nn.BatchNorm2d(192)\n",
    "        self.bn2 = nn.BatchNorm2d(160)\n",
    "        self.bn3 = nn.BatchNorm2d(96)\n",
    "        #self.bn4 = nn.BatchNorm2d(168)\n",
    "        \n",
    "        self.drop = nn.Dropout2d(p=0.5)\n",
    "        \n",
    "\n",
    "    def forward(self, x):\n",
    "        #print(self.conv1(x).shape)\n",
    "        x = self.pool(self.bn1(F.relu(self.conv1(x))))\n",
    "        #print(x.shape)\n",
    "\n",
    "        x = self.pool(self.bn2(F.relu(self.conv2(x))))\n",
    "        #x = self.drop(self.pool(F.relu(self.conv2(x))))\n",
    "        \n",
    "        x = self.pool(self.bn3(F.relu(self.conv3(x))))\n",
    "        \n",
    "        #x = self.pool(self.bn4(F.relu(self.conv4(x))))\n",
    "        #x = self.drop(self.pool(F.relu(self.conv3(x))))\n",
    "        #print(x.shape)\n",
    "        \n",
    "        \n",
    "        x = x.view(-1,96*5*5)\n",
    "\n",
    "        x = (F.relu(self.fc1(x)))\n",
    "        x = (F.relu(self.fc2(x)))\n",
    "        x = (self.fc3(x))\n",
    "        \n",
    "        #x = self.softmax(x)\n",
    "        return x\n",
    "    \n",
    "net_2 = Net()\n",
    "\n",
    "import torch.optim as optim\n",
    "from random import randint\n",
    "criterion = nn.CrossEntropyLoss()\n",
    "optimizer = optim.SGD(net_2.parameters(), lr=0.001, momentum=0.9,weight_decay=0.0005)"
   ]
  },
  {
   "cell_type": "code",
   "execution_count": 180,
   "metadata": {},
   "outputs": [
    {
     "name": "stdout",
     "output_type": "stream",
     "text": [
      "epoch: 0 loss: 1.329 train_acc: 0.521 val_acc: 0.607 learning rate: 0.001000\n",
      "epoch: 1 loss: 0.937 train_acc: 0.671 val_acc: 0.659 learning rate: 0.001000\n",
      "epoch: 2 loss: 0.768 train_acc: 0.730 val_acc: 0.695 learning rate: 0.001000\n",
      "epoch: 3 loss: 0.650 train_acc: 0.772 val_acc: 0.687 learning rate: 0.001000\n",
      "epoch: 4 loss: 0.392 train_acc: 0.866 val_acc: 0.744 learning rate: 0.000200\n",
      "epoch: 5 loss: 0.302 train_acc: 0.895 val_acc: 0.746 learning rate: 0.000200\n",
      "epoch: 6 loss: 0.219 train_acc: 0.928 val_acc: 0.750 learning rate: 0.000040\n",
      "epoch: 7 loss: 0.199 train_acc: 0.936 val_acc: 0.749 learning rate: 0.000040\n",
      "epoch: 8 loss: 0.179 train_acc: 0.943 val_acc: 0.750 learning rate: 0.000008\n",
      "epoch: 9 loss: 0.177 train_acc: 0.946 val_acc: 0.750 learning rate: 0.000002\n",
      "Finished Training\n"
     ]
    }
   ],
   "source": [
    "temp_lr = 0.001\n",
    "prev_acc = 0\n",
    "\n",
    "\n",
    "best_net_2 = Net()\n",
    "train_loss_2 = []\n",
    "validation_acc_2 = []\n",
    "best_acc_2 = 0\n",
    "\n",
    "decrease = 0\n",
    "\n",
    "for epoch in range(10):  # loop over the dataset multiple times\n",
    "    if epoch > 0:\n",
    "        if (prev_acc / acc > 0.995):\n",
    "            temp_lr /= 5\n",
    "        prev_acc = acc\n",
    "        #prev_acc = acc\n",
    "        #if (epoch % 10 == 0):\n",
    "        #    temp_lr /= 4\n",
    "    optimizer = optim.SGD(net_2.parameters(), lr=temp_lr, momentum=0.9,weight_decay=0.0005)\n",
    "    #optimizer = optim.Adam(net_2.parameters(), lr=0.001)\n",
    "    #temp_lr /= 5\n",
    "    \n",
    "    running_loss = 0.0\n",
    "    \n",
    "    train_correct = 0\n",
    "    train_total = 0\n",
    "    for batch_idx, (inputs, targets) in enumerate(train_try_loader):\n",
    "        \n",
    "        optimizer.zero_grad()\n",
    "        inputs, targets = Variable(inputs), Variable(targets)\n",
    "        outputs = net_2(inputs)\n",
    "        loss = criterion(outputs, targets)\n",
    "        loss.backward()\n",
    "        optimizer.step()\n",
    "        \n",
    "        \n",
    "        _, predicted_train = torch.max(outputs.data, 1)\n",
    "        \n",
    "        for i in range(4):\n",
    "            if predicted_train[i] == int(targets[i].data.numpy()[0]):\n",
    "                train_correct += 1\n",
    "            train_total +=1\n",
    "\n",
    "        # print statistics\n",
    "        running_loss += loss.data[0]\n",
    "        #print(\"Summary: %d is %.3f\" % (epoch, acc))\n",
    "        \n",
    "    train_acc = train_correct / train_total\n",
    "        \n",
    "        \n",
    "    correct = 0\n",
    "    total = 0\n",
    "    for i in range(0,10000):\n",
    "        inputs = torch.FloatTensor(X_val_reshape[i].reshape((1,3,32,32)))\n",
    "        labels = torch.LongTensor(Y_val_reshape[i])\n",
    "        outputs = net_2(Variable(inputs))\n",
    "        _, predicted = torch.max(outputs.data, 1)\n",
    "\n",
    "        if predicted[0] == labels[0]:\n",
    "            correct += 1\n",
    "        total += 1\n",
    "        \n",
    "    acc = correct / total\n",
    "    train_loss_2.append(running_loss/10000)\n",
    "    validation_acc_2.append(acc)\n",
    "    if (acc > best_acc_2):\n",
    "        best_acc_2 = acc\n",
    "        best_net_2.load_state_dict(net_2.state_dict())\n",
    "    \n",
    "    print(\"epoch: %d loss: %.3f train_acc: %.3f val_acc: %.3f learning rate: %.6f\" % (epoch,running_loss/10000,train_acc,acc,temp_lr))\n",
    "\n",
    "print('Finished Training')"
   ]
  },
  {
   "cell_type": "code",
   "execution_count": 181,
   "metadata": {},
   "outputs": [
    {
     "name": "stdout",
     "output_type": "stream",
     "text": [
      "7497\n",
      "10000\n",
      "0.7497\n"
     ]
    }
   ],
   "source": [
    "correct = 0\n",
    "total = 0\n",
    "for i in range(0,10000):\n",
    "    inputs = torch.FloatTensor(X_test_reshape[i].reshape((1,3,32,32)))\n",
    "    labels = torch.LongTensor(Y_test[i])\n",
    "    outputs = best_net_2(Variable(inputs))\n",
    "    _, predicted = torch.max(outputs.data, 1)\n",
    "    \n",
    "    if predicted[0] == labels[0]:\n",
    "        correct += 1\n",
    "    total += 1\n",
    "\n",
    "print(correct)\n",
    "print(total)\n",
    "print(correct/total)"
   ]
  },
  {
   "cell_type": "code",
   "execution_count": 194,
   "metadata": {
    "collapsed": true
   },
   "outputs": [],
   "source": [
    "train_acc_2 = [0.521,0.671,0.73,0.772,0.866,0.895,0.928,0.936,0.943,0.946]"
   ]
  },
  {
   "cell_type": "code",
   "execution_count": 192,
   "metadata": {},
   "outputs": [
    {
     "data": {
      "image/png": "[encoded data removed]",
      "text/plain": [
       "<matplotlib.figure.Figure at 0x113ddf748>"
      ]
     },
     "metadata": {},
     "output_type": "display_data"
    }
   ],
   "source": [
    "%matplotlib inline\n",
    "import matplotlib.pyplot as plt\n",
    "\n",
    "xAxis = [1,2,3,4,5,6,7,8,9,10]\n",
    "fig,ax1 = plt.subplots()\n",
    "ax1.plot(xAxis,train_loss_2,color ='red',label=\"train loss\")\n",
    "ax1.set_xlabel(\"epoch\")\n",
    "fig.legend()\n",
    "plt.show()"
   ]
  },
  {
   "cell_type": "code",
   "execution_count": 195,
   "metadata": {},
   "outputs": [
    {
     "data": {
      "image/png": "[encoded data removed]",
      "text/plain": [
       "<matplotlib.figure.Figure at 0x113f79cf8>"
      ]
     },
     "metadata": {},
     "output_type": "display_data"
    }
   ],
   "source": [
    "fig,ax1 = plt.subplots()\n",
    "ax1.plot(xAxis,validation_acc_2,color ='blue',label=\"validation accuracy\")\n",
    "ax1.plot(xAxis,train_acc_2,color ='red',label=\"train accuracy\")\n",
    "ax1.set_xlabel(\"epoch\")\n",
    "fig.legend()\n",
    "plt.show()"
   ]
  },
  {
   "cell_type": "code",
   "execution_count": null,
   "metadata": {
    "collapsed": true
   },
   "outputs": [],
   "source": []
  }
 ],
 "metadata": {
  "kernelspec": {
   "display_name": "Python 3",
   "language": "python",
   "name": "python3"
  },
  "language_info": {
   "codemirror_mode": {
    "name": "ipython",
    "version": 3
   },
   "file_extension": ".py",
   "mimetype": "text/x-python",
   "name": "python",
   "nbconvert_exporter": "python",
   "pygments_lexer": "ipython3",
   "version": "3.6.3"
  }
 },
 "nbformat": 4,
 "nbformat_minor": 2
}
